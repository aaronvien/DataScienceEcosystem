{
 "cells": [
  {
   "cell_type": "markdown",
   "id": "cbfeb794-da86-4d23-8c65-7259c450409a",
   "metadata": {},
   "source": [
    "Data Science Tools and Ecosystem"
   ]
  },
  {
   "cell_type": "markdown",
   "id": "a0d7871e-4c6f-4f46-b314-5379e298b4e4",
   "metadata": {},
   "source": [
    "In this notebook, Data Science Tools and Ecosystem are summarized"
   ]
  },
  {
   "cell_type": "markdown",
   "id": "9b0f45d7-a89d-4282-a978-5d8c0d7dd911",
   "metadata": {},
   "source": [
    "Some of the popular languages that Data Scientists use are:\n",
    "R\n",
    "Python\n",
    "Julia"
   ]
  },
  {
   "cell_type": "markdown",
   "id": "71552e4c-a0e8-45aa-9363-e82dce610e6a",
   "metadata": {},
   "source": [
    "Data Science Tools"
   ]
  },
  {
   "cell_type": "markdown",
   "id": "1e39fbd6-0ee4-4d14-9b66-930e48c09782",
   "metadata": {},
   "source": [
    "Below are a few examples of evaluating arithmetic expressions in Python"
   ]
  },
  {
   "cell_type": "markdown",
   "id": "5f846b5b-b5ac-4c33-a205-38518143e1bb",
   "metadata": {},
   "source": [
    "This a simple arithmetic expression to multiply then add integers \n",
    "(3*4)+5"
   ]
  },
  {
   "cell_type": "markdown",
   "id": "bc05452d-92d6-4ea4-80af-afef57e08331",
   "metadata": {},
   "source": [
    "200 minutes into hours\n",
    "This will convert 200 minutes to hours by diving by 60"
   ]
  },
  {
   "cell_type": "markdown",
   "id": "744bf1b9-31b1-465a-8a1c-c09ac081d2b2",
   "metadata": {},
   "source": [
    "Objectives:\n",
    "* List popular languages for Data Science\n",
    "* Data Science Tools\n",
    "* Below are a few examples of evaluating arithmetic expressions in Python"
   ]
  },
  {
   "cell_type": "markdown",
   "id": "80332b78-3c55-4d1b-b832-a3487dbd7609",
   "metadata": {},
   "source": [
    "## Author\n",
    "Aaron Blanco"
   ]
  }
 ],
 "metadata": {
  "kernelspec": {
   "display_name": "Python [conda env:base] *",
   "language": "python",
   "name": "conda-base-py"
  },
  "language_info": {
   "codemirror_mode": {
    "name": "ipython",
    "version": 3
   },
   "file_extension": ".py",
   "mimetype": "text/x-python",
   "name": "python",
   "nbconvert_exporter": "python",
   "pygments_lexer": "ipython3",
   "version": "3.12.7"
  }
 },
 "nbformat": 4,
 "nbformat_minor": 5
}
